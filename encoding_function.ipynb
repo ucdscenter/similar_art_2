{
 "cells": [
  {
   "cell_type": "code",
   "execution_count": 12,
   "metadata": {},
   "outputs": [],
   "source": [
    "                    #### Importing libraries ####\n",
    "import numpy as np\n",
    "import tensorflow as tf\n",
    "from tensorflow import keras\n",
    "from tensorflow.keras.applications import vgg19\n",
    "import os\n",
    "import cv2\n",
    "import matplotlib.pyplot as plt\n",
    "import imutils\n",
    "from tqdm.auto import tqdm\n",
    "import time"
   ]
  },
  {
   "cell_type": "code",
   "execution_count": 13,
   "metadata": {},
   "outputs": [],
   "source": [
    "def gram_matrix(x):\n",
    "    x = tf.transpose(x)\n",
    "    features = tf.reshape(x, (tf.shape(x)[0], -1))\n",
    "    gram = tf.matmul(features, tf.transpose(features))\n",
    "    gram = tf.reshape(gram,(tf.shape(gram)[0], -1))\n",
    "    return gram\n",
    "def preprocess_image(image_path):\n",
    "    width, height = keras.preprocessing.image.load_img('Data/Art_Nouveau_Modern/raphael-kirchner_santoy-1900-2.jpg').size\n",
    "    img_nrows = 256\n",
    "    img_ncols = int(width * img_nrows / height)\n",
    "    img = keras.preprocessing.image.load_img(\n",
    "        image_path, target_size=(img_nrows, img_ncols)\n",
    "    )\n",
    "    img = keras.preprocessing.image.img_to_array(img)\n",
    "    img = np.expand_dims(img, axis=0)\n",
    "    img = vgg19.preprocess_input(img)\n",
    "    return tf.convert_to_tensor(img)\n",
    "def deprocess_image(x):\n",
    "    width, height = keras.preprocessing.image.load_img('Data/Art_Nouveau_Modern/raphael-kirchner_santoy-1900-2.jpg').size\n",
    "    img_nrows = 256\n",
    "    img_ncols = int(width * img_nrows / height)\n",
    "    # Util function to convert a tensor into a valid image\n",
    "    x = x.reshape((img_nrows, img_ncols, 3))\n",
    "    # Remove zero-center by mean pixel\n",
    "    x[:, :, 0] += 103.939\n",
    "    x[:, :, 1] += 116.779\n",
    "    x[:, :, 2] += 123.68\n",
    "    # 'BGR'->'RGB'\n",
    "    x = x[:, :, ::-1]\n",
    "    x = np.clip(x, 0, 255).astype(\"uint8\")\n",
    "    return x"
   ]
  },
  {
   "cell_type": "code",
   "execution_count": 14,
   "metadata": {},
   "outputs": [],
   "source": [
    "model = vgg19.VGG19(weights=\"imagenet\", include_top=False)\n",
    "outputs_dict = dict([(layer.name, layer.output) for layer in model.layers])\n",
    "feature_extractor = keras.Model(inputs=model.inputs, outputs=outputs_dict)"
   ]
  },
  {
   "cell_type": "code",
   "execution_count": 15,
   "metadata": {},
   "outputs": [
    {
     "name": "stdout",
     "output_type": "stream",
     "text": [
      "Model: \"vgg19\"\n",
      "_________________________________________________________________\n",
      "Layer (type)                 Output Shape              Param #   \n",
      "=================================================================\n",
      "input_2 (InputLayer)         [(None, None, None, 3)]   0         \n",
      "_________________________________________________________________\n",
      "block1_conv1 (Conv2D)        (None, None, None, 64)    1792      \n",
      "_________________________________________________________________\n",
      "block1_conv2 (Conv2D)        (None, None, None, 64)    36928     \n",
      "_________________________________________________________________\n",
      "block1_pool (MaxPooling2D)   (None, None, None, 64)    0         \n",
      "_________________________________________________________________\n",
      "block2_conv1 (Conv2D)        (None, None, None, 128)   73856     \n",
      "_________________________________________________________________\n",
      "block2_conv2 (Conv2D)        (None, None, None, 128)   147584    \n",
      "_________________________________________________________________\n",
      "block2_pool (MaxPooling2D)   (None, None, None, 128)   0         \n",
      "_________________________________________________________________\n",
      "block3_conv1 (Conv2D)        (None, None, None, 256)   295168    \n",
      "_________________________________________________________________\n",
      "block3_conv2 (Conv2D)        (None, None, None, 256)   590080    \n",
      "_________________________________________________________________\n",
      "block3_conv3 (Conv2D)        (None, None, None, 256)   590080    \n",
      "_________________________________________________________________\n",
      "block3_conv4 (Conv2D)        (None, None, None, 256)   590080    \n",
      "_________________________________________________________________\n",
      "block3_pool (MaxPooling2D)   (None, None, None, 256)   0         \n",
      "_________________________________________________________________\n",
      "block4_conv1 (Conv2D)        (None, None, None, 512)   1180160   \n",
      "_________________________________________________________________\n",
      "block4_conv2 (Conv2D)        (None, None, None, 512)   2359808   \n",
      "_________________________________________________________________\n",
      "block4_conv3 (Conv2D)        (None, None, None, 512)   2359808   \n",
      "_________________________________________________________________\n",
      "block4_conv4 (Conv2D)        (None, None, None, 512)   2359808   \n",
      "_________________________________________________________________\n",
      "block4_pool (MaxPooling2D)   (None, None, None, 512)   0         \n",
      "_________________________________________________________________\n",
      "block5_conv1 (Conv2D)        (None, None, None, 512)   2359808   \n",
      "_________________________________________________________________\n",
      "block5_conv2 (Conv2D)        (None, None, None, 512)   2359808   \n",
      "_________________________________________________________________\n",
      "block5_conv3 (Conv2D)        (None, None, None, 512)   2359808   \n",
      "_________________________________________________________________\n",
      "block5_conv4 (Conv2D)        (None, None, None, 512)   2359808   \n",
      "_________________________________________________________________\n",
      "block5_pool (MaxPooling2D)   (None, None, None, 512)   0         \n",
      "=================================================================\n",
      "Total params: 20,024,384\n",
      "Trainable params: 20,024,384\n",
      "Non-trainable params: 0\n",
      "_________________________________________________________________\n"
     ]
    }
   ],
   "source": [
    "model.summary()"
   ]
  },
  {
   "cell_type": "code",
   "execution_count": 16,
   "metadata": {},
   "outputs": [],
   "source": [
    "def style_encoding(image_path,feature_extractor):\n",
    "    image_tensor = preprocess_image(image_path)\n",
    "    features = feature_extractor(image_tensor)\n",
    "    layer_features = features['block5_pool']\n",
    "    gram = gram_matrix(layer_features)\n",
    "    gram = np.array(tf.reshape(gram, [-1]))\n",
    "    return gram\n",
    "\n",
    "\n",
    "def color_encoding(image_path):\n",
    "    image = cv2.imread(image_path)\n",
    "    image = cv2.cvtColor(image, cv2.COLOR_BGR2HSV)\n",
    "    features = []\n",
    "    (h, w) = image.shape[:2]\n",
    "    (cX, cY) = (int(w * 0.5), int(h * 0.5))\n",
    "    segments = [(0, cX, 0, cY), (cX, w, 0, cY), (cX, w, cY, h),(0, cX, cY, h)]\n",
    "    \n",
    "    (axesX, axesY) = (int(w * 0.75) // 2, int(h * 0.75) // 2)\n",
    "    \n",
    "    ellipMask = np.zeros(image.shape[:2], dtype = \"uint8\")\n",
    "    \n",
    "    cv2.ellipse(ellipMask, (cX, cY), (axesX, axesY), 0, 0, 360, 255, -1)\n",
    "    \n",
    "    for (startX, endX, startY, endY) in segments:\n",
    "        \n",
    "# construct a mask for each corner of the image, subtracting\n",
    "# the elliptical center from it\n",
    "        cornerMask = np.zeros(image.shape[:2], dtype = \"uint8\")\n",
    "        cv2.rectangle(cornerMask, (startX, startY), (endX, endY), 255, -1)\n",
    "        cornerMask = cv2.subtract(cornerMask, ellipMask)\n",
    "        # extract a color histogram from the image, then update the\n",
    "        # feature vector\n",
    "        hist = histogram(image, mask = cornerMask)\n",
    "        features.extend(hist)\n",
    "    hist = histogram(image, ellipMask)\n",
    "    features.extend(hist)\n",
    "    return np.array(features)\n",
    "\n",
    "\n",
    "\n",
    "\n",
    "def histogram(image, mask):\n",
    "    # extract a 3D color histogram from the masked region of the\n",
    "    # image, using the supplied number of bins per channel\n",
    "    hist = cv2.calcHist([image], [0, 1, 2], mask, (8,10,9),\n",
    "        [0, 180, 0, 256, 0, 256])\n",
    "    # normalize the histogram if we are using OpenCV 2.4\n",
    "    if imutils.is_cv2():\n",
    "        hist = cv2.normalize(hist).flatten()\n",
    "    # otherwise handle for OpenCV 3+\n",
    "    else:\n",
    "        hist = cv2.normalize(hist, hist).flatten()\n",
    "    # return the histogram\n",
    "    return hist"
   ]
  },
  {
   "cell_type": "code",
   "execution_count": 17,
   "metadata": {},
   "outputs": [],
   "source": [
    "current_dir = os.getcwd()\n",
    "data_dir = os.path.join('.', 'miniData')\n",
    "list_of_folders = [i for i in sorted(os.listdir(data_dir)) if not i.startswith('.')]"
   ]
  },
  {
   "cell_type": "code",
   "execution_count": 18,
   "metadata": {},
   "outputs": [
    {
     "data": {
      "text/plain": [
       "dict_keys(['image_array', 'image_path', 'folder_path', 'encoding'])"
      ]
     },
     "execution_count": 18,
     "metadata": {},
     "output_type": "execute_result"
    }
   ],
   "source": [
    "enc_dict = {'image_array':[],'image_path': [], 'folder_path': [], 'encoding': []}\n",
    "enc_array = []\n",
    "enc_dict.keys()"
   ]
  },
  {
   "cell_type": "code",
   "execution_count": 19,
   "metadata": {},
   "outputs": [],
   "source": [
    "ti = []"
   ]
  },
  {
   "cell_type": "code",
   "execution_count": 20,
   "metadata": {},
   "outputs": [
    {
     "data": {
      "text/plain": [
       "'./miniData'"
      ]
     },
     "execution_count": 20,
     "metadata": {},
     "output_type": "execute_result"
    }
   ],
   "source": [
    "data_dir"
   ]
  },
  {
   "cell_type": "code",
   "execution_count": 21,
   "metadata": {},
   "outputs": [],
   "source": [
    "def encoding(list_of_folders,model):\n",
    "    for path in tqdm(list_of_folders):\n",
    "        folder_path = os.path.join(data_dir,path)\n",
    "        list_images = [image for image in sorted(os.listdir(folder_path)) if not image.startswith('.')]\n",
    "        for image in tqdm(list_images):\n",
    "            start_time = time.time()\n",
    "            image_path = os.path.join(folder_path,image)\n",
    "            style_encs = style_encoding(image_path,feature_extractor)\n",
    "            style_end_time = time.time()\n",
    "            color_encs = color_encoding(image_path)\n",
    "            color_end_time = time.time() - style_end_time\n",
    "            encs = np.array(np.concatenate([style_encs,color_encs]),dtype = 'int')\n",
    "            enc_array.append(encs)\n",
    "            enc_dict['image_path'].append(os.path.join(folder_path,image))\n",
    "            enc_dict['folder_path'].append(path)\n",
    "            ti.append(color_end_time)\n",
    "            enc_dict['encoding'].append(encs)\n",
    "    return encs, enc_dict"
   ]
  },
  {
   "cell_type": "code",
   "execution_count": 22,
   "metadata": {},
   "outputs": [
    {
     "data": {
      "application/vnd.jupyter.widget-view+json": {
       "model_id": "960d9d6cb9ad4cebacb08fe391f6dbdf",
       "version_major": 2,
       "version_minor": 0
      },
      "text/plain": [
       "HBox(children=(FloatProgress(value=0.0, max=4.0), HTML(value='')))"
      ]
     },
     "metadata": {},
     "output_type": "display_data"
    },
    {
     "data": {
      "application/vnd.jupyter.widget-view+json": {
       "model_id": "9c6953415613401b99502422a22e8edd",
       "version_major": 2,
       "version_minor": 0
      },
      "text/plain": [
       "HBox(children=(FloatProgress(value=0.0, max=55.0), HTML(value='')))"
      ]
     },
     "metadata": {},
     "output_type": "display_data"
    },
    {
     "name": "stdout",
     "output_type": "stream",
     "text": [
      "\n"
     ]
    },
    {
     "data": {
      "application/vnd.jupyter.widget-view+json": {
       "model_id": "03427c3e359b48a89f01c19d31e444bf",
       "version_major": 2,
       "version_minor": 0
      },
      "text/plain": [
       "HBox(children=(FloatProgress(value=0.0, max=77.0), HTML(value='')))"
      ]
     },
     "metadata": {},
     "output_type": "display_data"
    },
    {
     "name": "stdout",
     "output_type": "stream",
     "text": [
      "\n"
     ]
    },
    {
     "data": {
      "application/vnd.jupyter.widget-view+json": {
       "model_id": "071ec72d42bb46fba5df2c33aad54fec",
       "version_major": 2,
       "version_minor": 0
      },
      "text/plain": [
       "HBox(children=(FloatProgress(value=0.0, max=66.0), HTML(value='')))"
      ]
     },
     "metadata": {},
     "output_type": "display_data"
    },
    {
     "name": "stdout",
     "output_type": "stream",
     "text": [
      "\n"
     ]
    },
    {
     "data": {
      "application/vnd.jupyter.widget-view+json": {
       "model_id": "d22ecb819ff64884878c71201eb97235",
       "version_major": 2,
       "version_minor": 0
      },
      "text/plain": [
       "HBox(children=(FloatProgress(value=0.0, max=77.0), HTML(value='')))"
      ]
     },
     "metadata": {},
     "output_type": "display_data"
    },
    {
     "name": "stdout",
     "output_type": "stream",
     "text": [
      "\n",
      "\n"
     ]
    }
   ],
   "source": [
    "enc_dict = encoding(list_of_folders,model)"
   ]
  },
  {
   "cell_type": "code",
   "execution_count": 23,
   "metadata": {},
   "outputs": [],
   "source": [
    "encoding_dict = enc_dict[1]"
   ]
  },
  {
   "cell_type": "code",
   "execution_count": 24,
   "metadata": {},
   "outputs": [],
   "source": [
    "import pickle\n",
    "with open('encoding_dict.txt', 'wb') as f:\n",
    "    pickle.dump(encoding_dict, f)"
   ]
  },
  {
   "cell_type": "code",
   "execution_count": 25,
   "metadata": {},
   "outputs": [],
   "source": [
    "with open('encoding_dict.txt', 'rb') as handle:\n",
    "    b = pickle.load(handle)"
   ]
  },
  {
   "cell_type": "code",
   "execution_count": 26,
   "metadata": {},
   "outputs": [
    {
     "data": {
      "text/plain": [
       "[array([44,  0, 25, ...,  0,  0,  0]),\n",
       " array([1866,   13,  158, ...,    0,    0,    0]),\n",
       " array([4484,   11,  916, ...,    0,    0,    0]),\n",
       " array([1148,    0,    0, ...,    0,    0,    0]),\n",
       " array([3817,    0,    8, ...,    0,    0,    0]),\n",
       " array([2559,   29,  498, ...,    0,    0,    0]),\n",
       " array([1633,    0,    4, ...,    0,    0,    0]),\n",
       " array([128,   0,   0, ...,   0,   0,   0]),\n",
       " array([21941,   158,   266, ...,     0,     0,     0]),\n",
       " array([5, 0, 0, ..., 0, 0, 0]),\n",
       " array([17140,     0,     0, ...,     0,     0,     0]),\n",
       " array([6102,  369,   26, ...,    0,    0,    0]),\n",
       " array([10369,  7466,  1004, ...,     0,     0,     0]),\n",
       " array([1501,    0,   49, ...,    0,    0,    0]),\n",
       " array([557,  21,  17, ...,   0,   0,   0]),\n",
       " array([965,   0,   0, ...,   0,   0,   0]),\n",
       " array([35047,    13,     0, ...,     0,     0,     0]),\n",
       " array([62, 89,  0, ...,  0,  0,  0]),\n",
       " array([5991,  103, 1612, ...,    0,    0,    0]),\n",
       " array([4288,  499, 7040, ...,    0,    0,    0]),\n",
       " array([10524,  1335,    90, ...,     0,     0,     0]),\n",
       " array([18548,     0,   338, ...,     0,     0,     0]),\n",
       " array([7015,  237,    0, ...,    0,    0,    0]),\n",
       " array([16133,    39,  2985, ...,     0,     0,     0]),\n",
       " array([642,   4,   0, ...,   0,   0,   0]),\n",
       " array([28, 72,  0, ...,  0,  0,  0]),\n",
       " array([2577,    0,    0, ...,    0,    0,    0]),\n",
       " array([14239,  1709,  2415, ...,     0,     0,     0]),\n",
       " array([26460,   985,  6614, ...,     0,     0,     0]),\n",
       " array([607, 193,   0, ...,   0,   0,   0]),\n",
       " array([77,  0, 97, ...,  0,  0,  0]),\n",
       " array([5056,  178,    0, ...,    0,    0,    0]),\n",
       " array([303,  72,   0, ...,   0,   0,   0]),\n",
       " array([39647,     0,     0, ...,     0,     0,     0]),\n",
       " array([22813,     0,   123, ...,     0,     0,     0]),\n",
       " array([6653,    0,  280, ...,    0,    0,    0]),\n",
       " array([44,  0,  0, ...,  0,  0,  0]),\n",
       " array([1111, 2075,    0, ...,    0,    0,    0]),\n",
       " array([52857,   967,  4035, ...,     0,     0,     0]),\n",
       " array([0, 0, 0, ..., 0, 0, 0]),\n",
       " array([1869,    0,    0, ...,    0,    0,    0]),\n",
       " array([47485,     0,     0, ...,     0,     0,     0]),\n",
       " array([17864,   123,    82, ...,     0,     0,     0]),\n",
       " array([14156,   257,  4424, ...,     0,     0,     0]),\n",
       " array([8309, 1115,   38, ...,    0,    0,    0]),\n",
       " array([64239,   403,   803, ...,     0,     0,     0]),\n",
       " array([101897,   3673,   7403, ...,      0,      0,      0]),\n",
       " array([1881,    0,  247, ...,    0,    0,    0]),\n",
       " array([21331,    50,  1330, ...,     0,     0,     0]),\n",
       " array([1217,    0,  171, ...,    0,    0,    0]),\n",
       " array([5946,  233, 1177, ...,    0,    0,    0]),\n",
       " array([2469,  228,   90, ...,    0,    0,    0]),\n",
       " array([5207,    0,   91, ...,    0,    0,    0]),\n",
       " array([4542,   47,  111, ...,    0,    0,    0]),\n",
       " array([5756,  380,    0, ...,    0,    0,    0]),\n",
       " array([2953,  661,    0, ...,    0,    0,    0]),\n",
       " array([11608,   867,  2678, ...,     0,     0,     0]),\n",
       " array([19392,   492, 12964, ...,     0,     0,     0]),\n",
       " array([474,   0, 123, ...,   0,   0,   0]),\n",
       " array([0, 0, 0, ..., 0, 0, 0]),\n",
       " array([129,  37,  31, ...,   0,   0,   0]),\n",
       " array([6240,    0, 1192, ...,    0,    0,    0]),\n",
       " array([8756,  778, 7300, ...,    0,    0,    0]),\n",
       " array([732,   0,  55, ...,   0,   0,   0]),\n",
       " array([30076,    36,  3432, ...,     0,     0,     0]),\n",
       " array([5937,    0,    0, ...,    0,    0,    0]),\n",
       " array([9268, 1227,  763, ...,    0,    0,    0]),\n",
       " array([7954, 2877,  224, ...,    0,    0,    0]),\n",
       " array([1458,   30,    0, ...,    0,    0,    0]),\n",
       " array([12987,     0,   181, ...,     0,     0,     0]),\n",
       " array([12518,   537,  6433, ...,     0,     0,     0]),\n",
       " array([1703,    0,  170, ...,    0,    0,    0]),\n",
       " array([6569,  413, 1193, ...,    0,    0,    0]),\n",
       " array([685, 157,  26, ...,   0,   0,   0]),\n",
       " array([13701,     0,   873, ...,     0,     0,     0]),\n",
       " array([2925,  297,  111, ...,    0,    0,    0]),\n",
       " array([3179,    1, 1007, ...,    0,    0,    0]),\n",
       " array([16457,   136,   134, ...,     0,     0,     0]),\n",
       " array([315,   0, 195, ...,   0,   0,   0]),\n",
       " array([10721,    32,     1, ...,     0,     0,     0]),\n",
       " array([3118,   11, 2586, ...,    0,    0,    0]),\n",
       " array([ 926,    0, 1002, ...,    0,    0,    0]),\n",
       " array([12381,    45,   827, ...,     0,     0,     0]),\n",
       " array([12682,  8421,  3305, ...,     0,     0,     0]),\n",
       " array([4838,  553, 2765, ...,    0,    0,    0]),\n",
       " array([6310,    0,    0, ...,    0,    0,    0]),\n",
       " array([19410,  4745,  1236, ...,     0,     0,     0]),\n",
       " array([479,   0,  89, ...,   0,   0,   0]),\n",
       " array([3563, 6056,  311, ...,    0,    0,    0]),\n",
       " array([4713, 2016,    0, ...,    0,    0,    0]),\n",
       " array([5160,  362, 1320, ...,    0,    0,    0]),\n",
       " array([1534,    0,    0, ...,    0,    0,    0]),\n",
       " array([275,   0,   0, ...,   0,   0,   0]),\n",
       " array([9893,    0,   99, ...,    0,    0,    0]),\n",
       " array([203,   0,  35, ...,   0,   0,   0]),\n",
       " array([11284,   427,  3177, ...,     0,     0,     0]),\n",
       " array([6429,    0,  776, ...,    0,    0,    0]),\n",
       " array([19655,     0,  1324, ...,     0,     0,     0]),\n",
       " array([24280,  2065,     0, ...,     0,     0,     0]),\n",
       " array([8967, 3933, 1322, ...,    0,    0,    0]),\n",
       " array([10678,  4267,  2380, ...,     0,     0,     0]),\n",
       " array([26642,  1156,  1136, ...,     0,     0,     0]),\n",
       " array([12028,     5,  1677, ...,     0,     0,     0]),\n",
       " array([10478,   741,  8518, ...,     0,     0,     0]),\n",
       " array([4116, 2153,    0, ...,    0,    0,    0]),\n",
       " array([53049,  1314,  3093, ...,     0,     0,     0]),\n",
       " array([25601,  9367,  6932, ...,     0,     0,     0]),\n",
       " array([22681,  1157,     0, ...,     0,     0,     0]),\n",
       " array([3020,    2, 3085, ...,    0,    0,    0]),\n",
       " array([14664,     1,  1934, ...,     0,     0,     0]),\n",
       " array([338,  20,  91, ...,   0,   0,   0]),\n",
       " array([12183,   526,  2805, ...,     0,     0,     0]),\n",
       " array([1560,   20,   27, ...,    0,    0,    0]),\n",
       " array([5561,    0, 6760, ...,    0,    0,    0]),\n",
       " array([6857,    0,  125, ...,    0,    0,    0]),\n",
       " array([740,  95,   0, ...,   0,   0,   0]),\n",
       " array([3939,  228,  338, ...,    0,    0,    0]),\n",
       " array([1191,    0,   19, ...,    0,    0,    0]),\n",
       " array([30356,   778, 15308, ...,     0,     0,     0]),\n",
       " array([11206,   295, 14597, ...,     0,     0,     0]),\n",
       " array([56716,  1980, 25661, ...,     0,     0,     0]),\n",
       " array([11358,  2731,  2219, ...,     0,     0,     0]),\n",
       " array([4506, 2157, 5254, ...,    0,    0,    0]),\n",
       " array([9158,  194,    0, ...,    0,    0,    0]),\n",
       " array([30283,  3081,  8710, ...,     0,     0,     0]),\n",
       " array([5462,  408, 1524, ...,    0,    0,    0]),\n",
       " array([21056,  3469, 12158, ...,     0,     0,     0]),\n",
       " array([7461, 1251, 2349, ...,    0,    0,    0]),\n",
       " array([54165,     0, 11980, ...,     0,     0,     0]),\n",
       " array([22457,  2672,  1952, ...,     0,     0,     0]),\n",
       " array([8508,    5,  117, ...,    0,    0,    0]),\n",
       " array([4155,    0,  899, ...,    0,    0,    0]),\n",
       " array([22034,   598,   918, ...,     0,     0,     0]),\n",
       " array([25629,   308,  1665, ...,     0,     0,     0]),\n",
       " array([2603,  877,  223, ...,    0,    0,    0]),\n",
       " array([5054,   35,    0, ...,    0,    0,    0]),\n",
       " array([41410,  1908,  7830, ...,     0,     0,     0]),\n",
       " array([13526,   679,   556, ...,     0,     0,     0]),\n",
       " array([3440,  801, 2826, ...,    0,    0,    0]),\n",
       " array([14367,     0,  1467, ...,     0,     0,     0]),\n",
       " array([25347,   454, 11497, ...,     0,     0,     0]),\n",
       " array([6308,    0,  365, ...,    0,    0,    0]),\n",
       " array([9842,  901,    0, ...,    0,    0,    0]),\n",
       " array([5348,    0,  139, ...,    0,    0,    0]),\n",
       " array([ 9641,     0, 14582, ...,     0,     0,     0]),\n",
       " array([9833,    0,  502, ...,    0,    0,    0]),\n",
       " array([924,  47,   0, ...,   0,   0,   0]),\n",
       " array([8897,    0,   67, ...,    0,    0,    0]),\n",
       " array([9573,    0,   11, ...,    0,    0,    0]),\n",
       " array([302,   0,   0, ...,   0,   0,   0]),\n",
       " array([27745,  1133,    39, ...,     0,     0,     0]),\n",
       " array([280,   0,  86, ...,   0,   0,   0]),\n",
       " array([7714,    0,  293, ...,    0,    0,    0]),\n",
       " array([1631,    0,    0, ...,    0,    0,    0]),\n",
       " array([7214,    0,    0, ...,    0,    0,    0]),\n",
       " array([1415,    0,    0, ...,    0,    0,    0]),\n",
       " array([1430,    0,  394, ...,    0,    0,    0]),\n",
       " array([8351,    0,  385, ...,    0,    0,    0]),\n",
       " array([24935,    30,   377, ...,     0,     0,     0]),\n",
       " array([1506,    2,    0, ...,    0,    0,    0]),\n",
       " array([9296,    0, 2427, ...,    0,    0,    0]),\n",
       " array([2571,    0,    0, ...,    0,    0,    0]),\n",
       " array([491,   0,   0, ...,   0,   0,   0]),\n",
       " array([728,   0, 137, ...,   0,   0,   0]),\n",
       " array([4929,    0,  314, ...,    0,    0,    0]),\n",
       " array([4645,    1, 1056, ...,    0,    0,    0]),\n",
       " array([12358,     0,  3657, ...,     0,     0,     0]),\n",
       " array([7025,    0, 7130, ...,    0,    0,    0]),\n",
       " array([1416,    0, 1378, ...,    0,    0,    0]),\n",
       " array([4418,    0, 2043, ...,    0,    0,    0]),\n",
       " array([3, 0, 0, ..., 0, 0, 0]),\n",
       " array([25939,   524,   960, ...,     0,     0,     0]),\n",
       " array([2415,    0,  950, ...,    0,    0,    0]),\n",
       " array([2891,    0,  152, ...,    0,    0,    0]),\n",
       " array([24528,     0,  3229, ...,     0,     0,     0]),\n",
       " array([47083,  1785,  4642, ...,     0,     0,     0]),\n",
       " array([19476,     0,  6233, ...,     0,     0,     0]),\n",
       " array([12770,   276,  3003, ...,     0,     0,     0]),\n",
       " array([11305,     0, 20858, ...,     0,     0,     0]),\n",
       " array([3567,    0, 1445, ...,    0,    0,    0]),\n",
       " array([4485,    0,  833, ...,    0,    0,    0]),\n",
       " array([2264,    0,   84, ...,    0,    0,    0]),\n",
       " array([7338,    0,  173, ...,    0,    0,    0]),\n",
       " array([1007,   13, 1069, ...,    0,    0,    0]),\n",
       " array([3094,    0,  865, ...,    0,    0,    0]),\n",
       " array([1468,    0, 1133, ...,    0,    0,    0]),\n",
       " array([2701,    0,   76, ...,    0,    0,    0]),\n",
       " array([3828,    0,  692, ...,    0,    0,    0]),\n",
       " array([631,   5, 206, ...,   0,   0,   0]),\n",
       " array([26050,     0,   234, ...,     0,     0,     0]),\n",
       " array([3754,    0,  164, ...,    0,    0,    0]),\n",
       " array([38205,  1969,  1828, ...,     0,     0,     0]),\n",
       " array([14307,   102,  7661, ...,     0,     0,     0]),\n",
       " array([8956,    4,  242, ...,    0,    0,    0]),\n",
       " array([15549,   762,  1566, ...,     0,     0,     0]),\n",
       " array([18211,   322,  5897, ...,     0,     0,     0]),\n",
       " array([29162,   157,   588, ...,     0,     0,     0]),\n",
       " array([2839,   13,    0, ...,    0,    0,    0]),\n",
       " array([49915,   348,     0, ...,     0,     0,     0]),\n",
       " array([4379,   50, 4462, ...,    0,    0,    0]),\n",
       " array([8972,   85, 1192, ...,    0,    0,    0]),\n",
       " array([10180,  1171,  2666, ...,     0,     0,     0]),\n",
       " array([2133,  161,    6, ...,    0,    0,    0]),\n",
       " array([10776,  1625,  1377, ...,     0,     0,     0]),\n",
       " array([1963,   33,   19, ...,    0,    0,    0]),\n",
       " array([8038,    0,  262, ...,    0,    0,    0]),\n",
       " array([1407,   14, 1346, ...,    0,    0,    0]),\n",
       " array([1733,  385,    6, ...,    0,    0,    0]),\n",
       " array([12452,    30,     0, ...,     0,     0,     0]),\n",
       " array([5595,  927, 4041, ...,    0,    0,    0]),\n",
       " array([4625,   31, 5009, ...,    0,    0,    0]),\n",
       " array([14304,   547,   612, ...,     0,     0,     0]),\n",
       " array([10348,     0,     0, ...,     0,     0,     0]),\n",
       " array([10921,     0,   560, ...,     0,     0,     0]),\n",
       " array([7209, 1540,    0, ...,    0,    0,    0]),\n",
       " array([15405,     0,   541, ...,     0,     0,     0]),\n",
       " array([734, 819,   0, ...,   0,   0,   0]),\n",
       " array([17064,   294,  4002, ...,     0,     0,     0]),\n",
       " array([30621,   272,  2356, ...,     0,     0,     0]),\n",
       " array([6039,    4,  154, ...,    0,    0,    0]),\n",
       " array([33400,   185,   429, ...,     0,     0,     0]),\n",
       " array([6295,  239,    0, ...,    0,    0,    0]),\n",
       " array([7638,   84,  103, ...,    0,    0,    0]),\n",
       " array([234,   0,  31, ...,   0,   0,   0]),\n",
       " array([17889,     0,   115, ...,     0,     0,     0]),\n",
       " array([20341,   247,     0, ...,     0,     0,     0]),\n",
       " array([8902,    0,    0, ...,    0,    0,    0]),\n",
       " array([7123,  820,   73, ...,    0,    0,    0]),\n",
       " array([7427,  361,    0, ...,    0,    0,    0]),\n",
       " array([472, 415,   1, ...,   0,   0,   0]),\n",
       " array([56504,     0,  2852, ...,     0,     0,     0]),\n",
       " array([6863,    0, 1156, ...,    0,    0,    0]),\n",
       " array([1636,    0,  514, ...,    0,    0,    0]),\n",
       " array([336,   0,   0, ...,   0,   0,   0]),\n",
       " array([426,   0, 596, ...,   0,   0,   0]),\n",
       " array([14325,    62,   644, ...,     0,     0,     0]),\n",
       " array([23114,   707,    58, ...,     0,     0,     0]),\n",
       " array([1827,   27,  151, ...,    0,    0,    0]),\n",
       " array([9228,  509, 3289, ...,    0,    0,    0]),\n",
       " array([11725,   753,   543, ...,     0,     0,     0]),\n",
       " array([101,   0,   0, ...,   0,   0,   0]),\n",
       " array([3136,    0,    0, ...,    0,    0,    0]),\n",
       " array([305,   0,   0, ...,   0,   0,   0]),\n",
       " array([14197,   271,  1331, ...,     0,     0,     0]),\n",
       " array([2264,    0,   75, ...,    0,    0,    0]),\n",
       " array([15674,  1464,  1244, ...,     0,     0,     0]),\n",
       " array([18645,  9977,  3648, ...,     0,     0,     0]),\n",
       " array([19625,    50,  9363, ...,     0,     0,     0]),\n",
       " array([33164,   920,   322, ...,     0,     0,     0]),\n",
       " array([4452,   53,    0, ...,    0,    0,    0]),\n",
       " array([ 5063,     0, 11523, ...,     0,     0,     0]),\n",
       " array([6966, 1010,  848, ...,    0,    0,    0]),\n",
       " array([4108,   61, 1478, ...,    0,    0,    0]),\n",
       " array([23476,   232,  3344, ...,     0,     0,     0]),\n",
       " array([18672,     0,     4, ...,     0,     0,     0]),\n",
       " array([16449,   521,  4459, ...,     0,     0,     0]),\n",
       " array([11302,  2028,   452, ...,     0,     0,     0]),\n",
       " array([29317,   580,   581, ...,     0,     0,     0]),\n",
       " array([15264,  1517,   113, ...,     0,     0,     0]),\n",
       " array([1847,  501, 1649, ...,    0,    0,    0]),\n",
       " array([3624,    0, 1117, ...,    0,    0,    0]),\n",
       " array([15886,  2954,  7284, ...,     0,     0,     0]),\n",
       " array([27321,  6873,  2931, ...,     0,     0,     0]),\n",
       " array([15273,     1,  9994, ...,     0,     0,     0]),\n",
       " array([38491,   865, 19095, ...,     0,     0,     0]),\n",
       " array([18473,    52,   153, ...,     0,     0,     0]),\n",
       " array([20332,  1901,  2511, ...,     0,     0,     0]),\n",
       " array([17645,   549,     0, ...,     0,     0,     0]),\n",
       " array([12871,   636,  6922, ...,     0,     0,     0]),\n",
       " array([4706,  133, 1044, ...,    0,    0,    0]),\n",
       " array([16317,  7016,   968, ...,     0,     0,     0]),\n",
       " array([28283,  1931,   711, ...,     0,     0,     0]),\n",
       " array([7091,    1,  887, ...,    0,    0,    0]),\n",
       " array([28659,     0, 12523, ...,     0,     0,     0]),\n",
       " array([3597,  178,  188, ...,    0,    0,    0])]"
      ]
     },
     "execution_count": 26,
     "metadata": {},
     "output_type": "execute_result"
    }
   ],
   "source": [
    "b['encoding']"
   ]
  },
  {
   "cell_type": "code",
   "execution_count": null,
   "metadata": {},
   "outputs": [],
   "source": []
  }
 ],
 "metadata": {
  "kernelspec": {
   "display_name": "Python 3",
   "language": "python",
   "name": "python3"
  },
  "language_info": {
   "codemirror_mode": {
    "name": "ipython",
    "version": 3
   },
   "file_extension": ".py",
   "mimetype": "text/x-python",
   "name": "python",
   "nbconvert_exporter": "python",
   "pygments_lexer": "ipython3",
   "version": "3.6.10"
  }
 },
 "nbformat": 4,
 "nbformat_minor": 4
}
